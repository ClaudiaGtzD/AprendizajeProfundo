{
 "cells": [
  {
   "cell_type": "code",
   "execution_count": 16,
   "metadata": {},
   "outputs": [],
   "source": [
    "import numpy as np\n",
    "import matplotlib.pyplot as plt\n",
    "import pandas as pd"
   ]
  },
  {
   "cell_type": "code",
   "execution_count": 17,
   "metadata": {},
   "outputs": [],
   "source": [
    "#Definimos los pesos de las 4 neuronas de la capa oculta\n",
    "Wxh = np.matrix([[0.67156726, 0.61331638, 0.63982238, 0.71143195, 0.74514822,\n",
    "       0.13090625, 0.77746792, 0.23132526, 0.54044676, 0.29465683], [0.51537052, 0.41623643, 0.19185848, 0.33693678, 0.50668647,\n",
    "       0.69245658, 0.0367954 , 0.28318738, 0.8770729 , 0.5546507 ]])"
   ]
  },
  {
   "cell_type": "code",
   "execution_count": 18,
   "metadata": {},
   "outputs": [],
   "source": [
    "#Inicializar los sesgos en la capa oculta\n",
    "bh = np.matrix([[0.73693248, 0.46990672, 0.26472259, 0.04647866, 0.88465974,\n",
    "       0.39038408, 0.36485235, 0.63174467, 0.82516174, 0.58480591]])"
   ]
  },
  {
   "cell_type": "code",
   "execution_count": 19,
   "metadata": {},
   "outputs": [],
   "source": [
    "#Definimos los pesos de la neurona de salida\n",
    "#Inicializar los pesos de la neurona en la capa de salida\n",
    "Why = np.matrix([[0.4183924] , [0.12694562], [0.1162191] , [0.85895327], [0.49153507],\n",
    "       [0.63967536], [0.76312259], [0.70511683], [0.35286151], [0.15917816]])"
   ]
  },
  {
   "cell_type": "code",
   "execution_count": 20,
   "metadata": {},
   "outputs": [],
   "source": [
    "#Inicializar los sesgos en la capa de salida\n",
    "by = np.matrix([0.27138427])"
   ]
  },
  {
   "cell_type": "code",
   "execution_count": 21,
   "metadata": {},
   "outputs": [],
   "source": [
    "#Función sigmoide\n",
    "def sigmoid(x):\n",
    "    return 1/(1 + np.exp(-x))"
   ]
  },
  {
   "cell_type": "code",
   "execution_count": 22,
   "metadata": {},
   "outputs": [],
   "source": [
    "def sigmoidPrime(x):\n",
    "   return np.exp(-x) / np.multiply(1 + np.exp(-x), 1 + np.exp(-x))"
   ]
  },
  {
   "cell_type": "code",
   "execution_count": 23,
   "metadata": {},
   "outputs": [],
   "source": [
    "def forward_prop(X):\n",
    "    z1 = np.dot(X, Wxh) + bh #Capa oculta\n",
    "    a1 = sigmoid(z1) #Capa oculta\n",
    "    z2 = np.dot(a1, Why) + by\n",
    "    y_gorro=sigmoid(z2)\n",
    "    return y_gorro, z1, a1, z2"
   ]
  },
  {
   "cell_type": "code",
   "execution_count": 24,
   "metadata": {},
   "outputs": [],
   "source": [
    "stepsizex = 0\n",
    "stepsizey = 0"
   ]
  },
  {
   "cell_type": "code",
   "execution_count": null,
   "metadata": {},
   "outputs": [],
   "source": [
    "x = np.matrix([85, 80])"
   ]
  },
  {
   "cell_type": "code",
   "execution_count": 31,
   "metadata": {},
   "outputs": [],
   "source": [
    "def backword_prop(y_hat, z1, a1, z2,alpha):\n",
    "    global Wxh, Why, intento, stepsizex, stepsizey, seguir\n",
    "    intento = intento + 1\n",
    "    delta2 = np.multiply(-(90 - y_hat), sigmoidPrime(z2))\n",
    "    dJ_dWhy = np.dot(a1.T, delta2)\n",
    "    delta1 = np.multiply(np.dot(delta2, Why.T), sigmoidPrime(z1))\n",
    "    dJ_dWxh = np.dot(x.T, delta1)\n",
    "    stepsizex = alpha * dJ_dWxh\n",
    "    stepsizey = alpha * dJ_dWhy\n",
    "    Wxh = Wxh - alpha * dJ_dWxh\n",
    "    Why = Why - alpha * dJ_dWhy\n",
    "    seguir = not(intento > 3)\n",
    "    return Wxh, Why, stepsizex, stepsizey, seguir, intento"
   ]
  },
  {
   "cell_type": "code",
   "execution_count": 26,
   "metadata": {},
   "outputs": [],
   "source": []
  },
  {
   "cell_type": "code",
   "execution_count": 32,
   "metadata": {},
   "outputs": [
    {
     "name": "stdout",
     "output_type": "stream",
     "text": [
      "[[0.67156726 0.61331638 0.63982238 0.71143195 0.74514822 0.13090625\n",
      "  0.77746792 0.23132526 0.54044676 0.29465683]\n",
      " [0.51537052 0.41623643 0.19185848 0.33693678 0.50668647 0.69245658\n",
      "  0.0367954  0.28318738 0.8770729  0.5546507 ]]\n",
      "[[0.48097114]\n",
      " [0.18952436]\n",
      " [0.17879784]\n",
      " [0.92153201]\n",
      " [0.55411381]\n",
      " [0.7022541 ]\n",
      " [0.82570133]\n",
      " [0.76769557]\n",
      " [0.41544025]\n",
      " [0.2217569 ]]\n",
      "[[0.67156726 0.61331638 0.63982238 0.71143195 0.74514822 0.13090625\n",
      "  0.77746792 0.23132526 0.54044676 0.29465683]\n",
      " [0.51537052 0.41623643 0.19185848 0.33693678 0.50668647 0.69245658\n",
      "  0.0367954  0.28318738 0.8770729  0.5546507 ]]\n",
      "[[0.48973347]\n",
      " [0.19828669]\n",
      " [0.18756017]\n",
      " [0.93029434]\n",
      " [0.56287614]\n",
      " [0.71101643]\n",
      " [0.83446366]\n",
      " [0.7764579 ]\n",
      " [0.42420258]\n",
      " [0.23051923]]\n",
      "[[0.67156726 0.61331638 0.63982238 0.71143195 0.74514822 0.13090625\n",
      "  0.77746792 0.23132526 0.54044676 0.29465683]\n",
      " [0.51537052 0.41623643 0.19185848 0.33693678 0.50668647 0.69245658\n",
      "  0.0367954  0.28318738 0.8770729  0.5546507 ]]\n",
      "[[0.497766  ]\n",
      " [0.20631922]\n",
      " [0.1955927 ]\n",
      " [0.93832687]\n",
      " [0.57090867]\n",
      " [0.71904896]\n",
      " [0.84249619]\n",
      " [0.78449043]\n",
      " [0.43223511]\n",
      " [0.23855176]]\n",
      "[[0.67156726 0.61331638 0.63982238 0.71143195 0.74514822 0.13090625\n",
      "  0.77746792 0.23132526 0.54044676 0.29465683]\n",
      " [0.51537052 0.41623643 0.19185848 0.33693678 0.50668647 0.69245658\n",
      "  0.0367954  0.28318738 0.8770729  0.5546507 ]]\n",
      "[[0.50518266]\n",
      " [0.21373588]\n",
      " [0.20300936]\n",
      " [0.94574353]\n",
      " [0.57832533]\n",
      " [0.72646562]\n",
      " [0.84991285]\n",
      " [0.79190709]\n",
      " [0.43965177]\n",
      " [0.24596842]]\n"
     ]
    }
   ],
   "source": [
    "intento = 0\n",
    "seguir = True\n",
    "alpha = 0.025\n",
    "while(seguir):\n",
    "    y_hat, z1, a1, z2 = forward_prop(x)\n",
    "    backword_prop(y_hat, z1, a1, z2, alpha)\n",
    "    print(Wxh)\n",
    "    print(Why)"
   ]
  },
  {
   "cell_type": "code",
   "execution_count": 28,
   "metadata": {},
   "outputs": [
    {
     "name": "stdout",
     "output_type": "stream",
     "text": [
      "[[0.67156726 0.61331638 0.63982238 0.71143195 0.74514822 0.13090625\n",
      "  0.77746792 0.23132526 0.54044676 0.29465683]\n",
      " [0.51537052 0.41623643 0.19185848 0.33693678 0.50668647 0.69245658\n",
      "  0.0367954  0.28318738 0.8770729  0.5546507 ]]\n"
     ]
    }
   ],
   "source": [
    "print(Wxh)"
   ]
  },
  {
   "cell_type": "code",
   "execution_count": 29,
   "metadata": {},
   "outputs": [
    {
     "name": "stdout",
     "output_type": "stream",
     "text": [
      "[[0.47132959]\n",
      " [0.17988281]\n",
      " [0.16915629]\n",
      " [0.91189046]\n",
      " [0.54447226]\n",
      " [0.69261255]\n",
      " [0.81605978]\n",
      " [0.75805402]\n",
      " [0.4057987 ]\n",
      " [0.21211535]]\n"
     ]
    }
   ],
   "source": [
    "print(Why)"
   ]
  },
  {
   "cell_type": "code",
   "execution_count": 30,
   "metadata": {},
   "outputs": [
    {
     "data": {
      "text/plain": [
       "matrix([[0.9951578]])"
      ]
     },
     "execution_count": 30,
     "metadata": {},
     "output_type": "execute_result"
    }
   ],
   "source": [
    "y_hat"
   ]
  }
 ],
 "metadata": {
  "kernelspec": {
   "display_name": "Python 3",
   "language": "python",
   "name": "python3"
  },
  "language_info": {
   "codemirror_mode": {
    "name": "ipython",
    "version": 3
   },
   "file_extension": ".py",
   "mimetype": "text/x-python",
   "name": "python",
   "nbconvert_exporter": "python",
   "pygments_lexer": "ipython3",
   "version": "3.10.13"
  }
 },
 "nbformat": 4,
 "nbformat_minor": 2
}
