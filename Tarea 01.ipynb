{
 "cells": [
  {
   "cell_type": "markdown",
   "metadata": {},
   "source": [
    "# Tarea 01 - Crear 5 neuronas que hagan sinápsis entre sí"
   ]
  },
  {
   "cell_type": "code",
   "execution_count": 1,
   "metadata": {},
   "outputs": [],
   "source": [
    "import numpy as np"
   ]
  },
  {
   "cell_type": "code",
   "execution_count": 3,
   "metadata": {},
   "outputs": [],
   "source": [
    "#Neurona que usa Tanh\n",
    "def Neurona1(a1, a2, a3, a4):\n",
    "    w1 = 0.1\n",
    "    w2 = 0.4\n",
    "    w3 = 0.3\n",
    "    w4 = 0.2\n",
    "    bias = 1.35\n",
    "    z = a1*w1 + a2*w2 + a3*w3 + a4*w4 + bias\n",
    "    return (1-np.exp(-2*z))/(1+np.exp(-2*z))"
   ]
  },
  {
   "cell_type": "code",
   "execution_count": 4,
   "metadata": {},
   "outputs": [],
   "source": [
    "#Neurona que usa Tanh\n",
    "def Neurona2(a1, a2, a3, a4):\n",
    "    w1 = 0.25\n",
    "    w2 = 0.1\n",
    "    w3 = 0.35\n",
    "    w4 = 0.3\n",
    "    bias = 1.72\n",
    "    z = a1*w1 + a2*w2 + a3*w3 + a4*w4 + bias\n",
    "    return (1-np.exp(-2*z))/(1+np.exp(-2*z))"
   ]
  },
  {
   "cell_type": "code",
   "execution_count": 5,
   "metadata": {},
   "outputs": [],
   "source": [
    "#Neurona que recibe las neuronas 1 y 2 y aplica Sigmoid\n",
    "def Neurona3(a1, a2):\n",
    "    w1 = 0.65\n",
    "    w2 = 0.35\n",
    "    bias = 1.28\n",
    "    z = a1*w1 + a2*w2 + bias\n",
    "    return 1 / (1 + np.exp(-z))"
   ]
  },
  {
   "cell_type": "code",
   "execution_count": 6,
   "metadata": {},
   "outputs": [],
   "source": [
    "#Neurona que recibe las neuronas 1 y 2 y aplica Sigmoid\n",
    "def Neurona4(a1, a2):\n",
    "    w1 = 0.42\n",
    "    w2 = 0.58\n",
    "    bias = 1.26\n",
    "    z = a1*w1 + a2*w2 + bias\n",
    "    return 1 / (1 + np.exp(-z))"
   ]
  },
  {
   "cell_type": "code",
   "execution_count": 7,
   "metadata": {},
   "outputs": [],
   "source": [
    "#Neurona que recibe las neuronas 3 y 4 y aplica ReLU\n",
    "def Neurona5(a1, a2):\n",
    "    w1 = 0.73\n",
    "    w2 = 0.27\n",
    "    bias = 1.68\n",
    "    z = a1*w1 + a2*w2 + bias\n",
    "    return max(0, z)"
   ]
  },
  {
   "cell_type": "code",
   "execution_count": 12,
   "metadata": {},
   "outputs": [
    {
     "data": {
      "text/plain": [
       "0.9999993238515319"
      ]
     },
     "execution_count": 12,
     "metadata": {},
     "output_type": "execute_result"
    }
   ],
   "source": [
    "#Declaración y llamada de primera neurona\n",
    "a1, a2, a3, a4 = 5, 9, 2, 7\n",
    "n1 = Neurona1(a1, a2, a3, a4)\n",
    "n1"
   ]
  },
  {
   "cell_type": "code",
   "execution_count": 13,
   "metadata": {},
   "outputs": [
    {
     "data": {
      "text/plain": [
       "0.9999967823343936"
      ]
     },
     "execution_count": 13,
     "metadata": {},
     "output_type": "execute_result"
    }
   ],
   "source": [
    "#Segunda neurona\n",
    "n2 = Neurona2(a1, a2, a3, a4)\n",
    "n2"
   ]
  },
  {
   "cell_type": "code",
   "execution_count": 14,
   "metadata": {},
   "outputs": [
    {
     "data": {
      "text/plain": [
       "0.9072069150800709"
      ]
     },
     "execution_count": 14,
     "metadata": {},
     "output_type": "execute_result"
    }
   ],
   "source": [
    "#Tercera neurona con el resultado de las neuronas 1 y 2\n",
    "n3 = Neurona3(n1, n2)\n",
    "n3"
   ]
  },
  {
   "cell_type": "code",
   "execution_count": 15,
   "metadata": {},
   "outputs": [
    {
     "data": {
      "text/plain": [
       "0.9055094470719681"
      ]
     },
     "execution_count": 15,
     "metadata": {},
     "output_type": "execute_result"
    }
   ],
   "source": [
    "#Cuarta neurona con el resultado de las neuronas 1 y 2\n",
    "n4 = Neurona4(n1, n2)\n",
    "n4"
   ]
  },
  {
   "cell_type": "code",
   "execution_count": 16,
   "metadata": {},
   "outputs": [
    {
     "data": {
      "text/plain": [
       "2.5867485987178833"
      ]
     },
     "execution_count": 16,
     "metadata": {},
     "output_type": "execute_result"
    }
   ],
   "source": [
    "#Quinta neurona con el resultado de las neuronas 3 y 4\n",
    "n5 = Neurona5(n3, n4)\n",
    "n5"
   ]
  }
 ],
 "metadata": {
  "kernelspec": {
   "display_name": "Python 3",
   "language": "python",
   "name": "python3"
  },
  "language_info": {
   "codemirror_mode": {
    "name": "ipython",
    "version": 3
   },
   "file_extension": ".py",
   "mimetype": "text/x-python",
   "name": "python",
   "nbconvert_exporter": "python",
   "pygments_lexer": "ipython3",
   "version": "3.10.13"
  }
 },
 "nbformat": 4,
 "nbformat_minor": 2
}
