{
 "cells": [
  {
   "cell_type": "code",
   "execution_count": 2,
   "metadata": {},
   "outputs": [],
   "source": [
    "import pandas as pd\n",
    "import numpy as np\n",
    "import matplotlib.pyplot as plt"
   ]
  },
  {
   "cell_type": "code",
   "execution_count": 8,
   "metadata": {},
   "outputs": [],
   "source": [
    "#Definir un perceptron 1\n",
    "def neurona1(x1, x2, x3) : #Dentritas\n",
    "  w1 = 0.25 #Soma\n",
    "  w2 = 0.4 #Soma\n",
    "  w3 = 0.35 #Soma\n",
    "  bias = 1.25 #Soma\n",
    "  z = x1*w1+x2*w2+x3*w3+bias #Soma\n",
    "  a1 = max(0, z) #Axon\n",
    "  return a1 #Axon"
   ]
  },
  {
   "cell_type": "code",
   "execution_count": 9,
   "metadata": {},
   "outputs": [
    {
     "data": {
      "text/plain": [
       "5.6"
      ]
     },
     "execution_count": 9,
     "metadata": {},
     "output_type": "execute_result"
    }
   ],
   "source": [
    "neurona1(1, 5, 6)"
   ]
  },
  {
   "cell_type": "code",
   "execution_count": 10,
   "metadata": {},
   "outputs": [],
   "source": [
    "#Replicar una synapsis\n",
    "#Definir el perceptrón 2\n",
    "def neurona2(a1) : #Dentritas\n",
    "  w1 = 0.3 #Soma\n",
    "  bias = 0.85 #Soma\n",
    "  z = a1*w1+bias #Soma\n",
    "  a2 = max(0, z) #Axon\n",
    "  return a2 #Axon"
   ]
  },
  {
   "cell_type": "code",
   "execution_count": 11,
   "metadata": {},
   "outputs": [],
   "source": [
    "a1 = neurona1(3, 4, 5)\n",
    "a2 = neurona2(a1)"
   ]
  },
  {
   "cell_type": "code",
   "execution_count": 12,
   "metadata": {},
   "outputs": [
    {
     "data": {
      "text/plain": [
       "2.4549999999999996"
      ]
     },
     "execution_count": 12,
     "metadata": {},
     "output_type": "execute_result"
    }
   ],
   "source": [
    "a2"
   ]
  }
 ],
 "metadata": {
  "kernelspec": {
   "display_name": "Python 3",
   "language": "python",
   "name": "python3"
  },
  "language_info": {
   "codemirror_mode": {
    "name": "ipython",
    "version": 3
   },
   "file_extension": ".py",
   "mimetype": "text/x-python",
   "name": "python",
   "nbconvert_exporter": "python",
   "pygments_lexer": "ipython3",
   "version": "3.10.13"
  }
 },
 "nbformat": 4,
 "nbformat_minor": 2
}
