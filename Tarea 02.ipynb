{
 "cells": [
  {
   "cell_type": "code",
   "execution_count": 460,
   "metadata": {},
   "outputs": [],
   "source": [
    "import numpy as np\n",
    "import matplotlib.pyplot as plt\n",
    "import pandas as pd"
   ]
  },
  {
   "cell_type": "code",
   "execution_count": 478,
   "metadata": {},
   "outputs": [],
   "source": [
    "#Definimos los pesos de las 4 neuronas de la capa oculta\n",
    "Wxh = np.matrix([[0.67156726, 0.61331638, 0.63982238, 0.71143195, 0.74514822,\n",
    "       0.13090625, 0.77746792, 0.23132526, 0.54044676, 0.29465683], [0.51537052, 0.41623643, 0.19185848, 0.33693678, 0.50668647,\n",
    "       0.69245658, 0.0367954 , 0.28318738, 0.8770729 , 0.5546507 ]])"
   ]
  },
  {
   "cell_type": "code",
   "execution_count": 480,
   "metadata": {},
   "outputs": [],
   "source": [
    "#Inicializar los sesgos en la capa oculta\n",
    "bh = np.matrix([[0.73693248, 0.46990672, 0.26472259, 0.04647866, 0.88465974,\n",
    "       0.39038408, 0.36485235, 0.63174467, 0.82516174, 0.58480591]])"
   ]
  },
  {
   "cell_type": "code",
   "execution_count": 481,
   "metadata": {},
   "outputs": [],
   "source": [
    "#Definimos los pesos de la neurona de salida\n",
    "#Inicializar los pesos de la neurona en la capa de salida\n",
    "Why = np.matrix([[0.4183924] , [0.12694562], [0.1162191] , [0.85895327], [0.49153507],\n",
    "       [0.63967536], [0.76312259], [0.70511683], [0.35286151], [0.15917816]])"
   ]
  },
  {
   "cell_type": "code",
   "execution_count": 464,
   "metadata": {},
   "outputs": [],
   "source": [
    "#Inicializar los sesgos en la capa de salida\n",
    "by = np.matrix([0.27138427])"
   ]
  },
  {
   "cell_type": "code",
   "execution_count": 482,
   "metadata": {},
   "outputs": [],
   "source": [
    "#Función sigmoide\n",
    "def sigmoid(x):\n",
    "    return 1/(1 + np.exp(-x))"
   ]
  },
  {
   "cell_type": "code",
   "execution_count": 483,
   "metadata": {},
   "outputs": [],
   "source": [
    "def sigmoidPrime(x):\n",
    "   return np.exp(-x) / np.multiply(1 + np.exp(-x), 1 + np.exp(-x))"
   ]
  },
  {
   "cell_type": "code",
   "execution_count": 484,
   "metadata": {},
   "outputs": [],
   "source": [
    "def forward_prop(X):\n",
    "    z1 = np.dot(X, Wxh) + bh #Capa oculta\n",
    "    a1 = sigmoid(z1) #Capa oculta\n",
    "    z2 = np.dot(a1, Why) + by\n",
    "    y_gorro=sigmoid(z2)\n",
    "    return y_gorro, z1, a1, z2"
   ]
  },
  {
   "cell_type": "code",
   "execution_count": 485,
   "metadata": {},
   "outputs": [],
   "source": [
    "stepsizex = 0\n",
    "stepsizey = 0"
   ]
  },
  {
   "cell_type": "code",
   "execution_count": 495,
   "metadata": {},
   "outputs": [],
   "source": [
    "def backword_prop(y_hat, z1, a1, z2,alpha):\n",
    "    global Wxh, Why, intento, stepsizex, stepsizey, seguir\n",
    "    intento = intento + 1\n",
    "    delta2 = np.multiply(-(90 - y_hat), sigmoidPrime(z2))\n",
    "    dJ_dWhy = np.dot(a1.T, delta2)\n",
    "    delta1 = np.multiply(np.dot(delta2, Why.T), sigmoidPrime(z1))\n",
    "    dJ_dWxh = np.dot(150, delta1)\n",
    "    stepsizex = alpha * dJ_dWxh\n",
    "    stepsizey = alpha * dJ_dWhy\n",
    "    Wxh = Wxh - alpha * dJ_dWxh\n",
    "    Why = Why - alpha * dJ_dWhy\n",
    "    seguir = not(intento > 3)\n",
    "    return Wxh, Why, stepsizex, stepsizey, seguir, intento"
   ]
  },
  {
   "cell_type": "code",
   "execution_count": 494,
   "metadata": {},
   "outputs": [],
   "source": [
    "x = np.matrix([160, 80])"
   ]
  },
  {
   "cell_type": "code",
   "execution_count": 496,
   "metadata": {},
   "outputs": [],
   "source": [
    "intento = 0\n",
    "seguir = True\n",
    "alpha = 0.025\n",
    "while(seguir):\n",
    "    y_hat, z1, a1, z2 = forward_prop(x)\n",
    "    backword_prop(y_hat, z1, a1, z2, alpha)\n",
    "    print(Wxh)\n",
    "    print(Why)"
   ]
  },
  {
   "cell_type": "code",
   "execution_count": 497,
   "metadata": {},
   "outputs": [
    {
     "name": "stdout",
     "output_type": "stream",
     "text": [
      "[[0.67156726 0.61331638 0.63982238 0.71143195 0.74514822 0.13090625\n",
      "  0.77746792 0.23132526 0.54044676 0.29465683]\n",
      " [0.51537052 0.41623643 0.19185848 0.33693678 0.50668647 0.69245658\n",
      "  0.0367954  0.28318738 0.8770729  0.5546507 ]]\n"
     ]
    }
   ],
   "source": [
    "print(Wxh)"
   ]
  },
  {
   "cell_type": "code",
   "execution_count": 498,
   "metadata": {},
   "outputs": [
    {
     "name": "stdout",
     "output_type": "stream",
     "text": [
      "[[0.47121708]\n",
      " [0.1797703 ]\n",
      " [0.16904378]\n",
      " [0.91177795]\n",
      " [0.54435975]\n",
      " [0.69250004]\n",
      " [0.81594727]\n",
      " [0.75794151]\n",
      " [0.40568619]\n",
      " [0.21200284]]\n"
     ]
    }
   ],
   "source": [
    "print(Why)"
   ]
  },
  {
   "cell_type": "code",
   "execution_count": 499,
   "metadata": {},
   "outputs": [
    {
     "data": {
      "text/plain": [
       "matrix([[0.99515173]])"
      ]
     },
     "execution_count": 499,
     "metadata": {},
     "output_type": "execute_result"
    }
   ],
   "source": [
    "y_hat"
   ]
  }
 ],
 "metadata": {
  "kernelspec": {
   "display_name": "Python 3",
   "language": "python",
   "name": "python3"
  },
  "language_info": {
   "codemirror_mode": {
    "name": "ipython",
    "version": 3
   },
   "file_extension": ".py",
   "mimetype": "text/x-python",
   "name": "python",
   "nbconvert_exporter": "python",
   "pygments_lexer": "ipython3",
   "version": "3.10.13"
  }
 },
 "nbformat": 4,
 "nbformat_minor": 2
}
