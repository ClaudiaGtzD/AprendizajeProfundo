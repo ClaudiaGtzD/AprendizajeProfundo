{
 "cells": [
  {
   "cell_type": "code",
   "execution_count": 2,
   "metadata": {},
   "outputs": [],
   "source": [
    "import pandas as pd\n",
    "import numpy as np"
   ]
  },
  {
   "cell_type": "code",
   "execution_count": 3,
   "metadata": {},
   "outputs": [],
   "source": [
    "#SE DEFINE UNA RED NEURONAL CON LAS SIGUIENTES CARACTERÍSTICAS\n",
    "\n",
    "#1. Una capa de entrada con dos inputs, x1 y x2.\n",
    "#2. Una capa oculta con 4 neuronas h1, h2, h3 y h4.\n",
    "#3. Una capa de salida con 1 neurona o1."
   ]
  },
  {
   "cell_type": "code",
   "execution_count": 4,
   "metadata": {},
   "outputs": [
    {
     "name": "stdout",
     "output_type": "stream",
     "text": [
      "[[0.2  0.65 0.45 0.12]\n",
      " [0.8  0.35 0.55 0.15]]\n"
     ]
    }
   ],
   "source": [
    "#Inicializar los pesos de las 4 neuronas en la capa oculta\n",
    "Wxh = np.array([[0.2, 0.65, 0.45, 0.12],\n",
    "                [0.8, 0.35, 0.55, 0.15]])\n",
    "print(Wxh)"
   ]
  },
  {
   "cell_type": "code",
   "execution_count": 5,
   "metadata": {},
   "outputs": [
    {
     "name": "stdout",
     "output_type": "stream",
     "text": [
      "[[0.2 ]\n",
      " [0.35]\n",
      " [0.45]\n",
      " [0.52]]\n"
     ]
    }
   ],
   "source": [
    "#Inicializar los pesos de la neurona en la capa de salida\n",
    "Why = np.array([[0.2],[0.35],[0.45],[0.52]])\n",
    "print(Why)"
   ]
  },
  {
   "cell_type": "code",
   "execution_count": 6,
   "metadata": {},
   "outputs": [
    {
     "name": "stdout",
     "output_type": "stream",
     "text": [
      "[0.2  0.15 0.45 0.23]\n"
     ]
    }
   ],
   "source": [
    "#Inicializar los sesgos en la capa oculta\n",
    "bh = np.array([0.2, 0.15,0.45,0.23])\n",
    "print(bh)"
   ]
  },
  {
   "cell_type": "code",
   "execution_count": 7,
   "metadata": {},
   "outputs": [],
   "source": [
    "#Inicializar los sesgos en la capa de salida\n",
    "by = 0.5"
   ]
  },
  {
   "cell_type": "code",
   "execution_count": 8,
   "metadata": {},
   "outputs": [],
   "source": [
    "#DEFINIR LA FUNCION SIGMOIDE\n",
    "def sigmoid(x):\n",
    "    return 1/(1 + np.exp(-x))"
   ]
  },
  {
   "cell_type": "code",
   "execution_count": 12,
   "metadata": {},
   "outputs": [],
   "source": [
    "def forward_prop(X):\n",
    "    z1 = np.dot(X, Wxh) + bh #Capa oculta\n",
    "    a1 = sigmoid(z1) #Capa oculta\n",
    "    z2 = np.dot(a1, Why) + by\n",
    "    y_gorro=sigmoid(z2)\n",
    "    return y_gorro, z1, a1, z2"
   ]
  },
  {
   "cell_type": "code",
   "execution_count": 10,
   "metadata": {},
   "outputs": [],
   "source": [
    "x = np.array([1.75, 70])"
   ]
  },
  {
   "cell_type": "code",
   "execution_count": 13,
   "metadata": {},
   "outputs": [
    {
     "data": {
      "text/plain": [
       "array([0.88288006])"
      ]
     },
     "execution_count": 13,
     "metadata": {},
     "output_type": "execute_result"
    }
   ],
   "source": [
    "y_gorro = forward_prop(x)\n",
    "y_gorro"
   ]
  },
  {
   "cell_type": "code",
   "execution_count": 14,
   "metadata": {},
   "outputs": [
    {
     "data": {
      "text/plain": [
       "array([56.55  , 25.7875, 39.7375, 10.94  ])"
      ]
     },
     "execution_count": 14,
     "metadata": {},
     "output_type": "execute_result"
    }
   ],
   "source": [
    "np.dot(x, Wxh) + bh"
   ]
  }
 ],
 "metadata": {
  "kernelspec": {
   "display_name": "Python 3",
   "language": "python",
   "name": "python3"
  },
  "language_info": {
   "codemirror_mode": {
    "name": "ipython",
    "version": 3
   },
   "file_extension": ".py",
   "mimetype": "text/x-python",
   "name": "python",
   "nbconvert_exporter": "python",
   "pygments_lexer": "ipython3",
   "version": "3.10.13"
  }
 },
 "nbformat": 4,
 "nbformat_minor": 2
}
